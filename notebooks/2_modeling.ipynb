{
 "cells": [
  {
   "cell_type": "code",
   "execution_count": 1,
   "metadata": {},
   "outputs": [],
   "source": [
    "import sys\n",
    "import os\n",
    "os.chdir(\"..\")\n",
    "\n",
    "sys.path.append(os.path.abspath(os.path.join(os.getcwd(), 'src')))"
   ]
  },
  {
   "cell_type": "code",
   "execution_count": 2,
   "metadata": {},
   "outputs": [],
   "source": [
    "import pandas as pd\n",
    "from src.modeling import preprocess_data\n",
    "from src.modeling import train_models\n",
    "from src.evaluation import evaluate_models\n",
    "\n",
    "# Load data\n",
    "X_train, X_test, y_train, y_test = preprocess_data.load_modeling_data()"
   ]
  },
  {
   "cell_type": "code",
   "execution_count": null,
   "metadata": {},
   "outputs": [],
   "source": [
    "# Train models\n",
    "rf_model = train_models.train_random_forest(X_train, y_train)\n",
    "xgb_model = train_models.train_xgboost(X_train, y_train)\n",
    "lgb_model = train_models.train_lightgbm(X_train, y_train)\n",
    "\n",
    "# For MLP, we need to scale X_train first\n",
    "from sklearn.preprocessing import StandardScaler\n",
    "scaler = StandardScaler()\n",
    "X_train_scaled = scaler.fit_transform(X_train)\n",
    "X_test_scaled = scaler.transform(X_test)\n",
    "\n",
    "mlp_model = train_models.train_mlp(pd.DataFrame(X_train_scaled), y_train)\n",
    "\n",
    "# Compare models\n",
    "models = {\n",
    "    \"Random Forest\": rf_model,\n",
    "    \"XGBoost\": xgb_model,\n",
    "    \"LightGBM\": lgb_model,\n",
    "    \"MLP\": mlp_model\n",
    "}\n",
    "\n",
    "# Evaluate\n",
    "results_df = compare_models(models, X_test, y_test)\n",
    "display(results_df)"
   ]
  }
 ],
 "metadata": {
  "kernelspec": {
   "display_name": "Python 3",
   "language": "python",
   "name": "python3"
  },
  "language_info": {
   "codemirror_mode": {
    "name": "ipython",
    "version": 3
   },
   "file_extension": ".py",
   "mimetype": "text/x-python",
   "name": "python",
   "nbconvert_exporter": "python",
   "pygments_lexer": "ipython3",
   "version": "3.12.4"
  }
 },
 "nbformat": 4,
 "nbformat_minor": 2
}
