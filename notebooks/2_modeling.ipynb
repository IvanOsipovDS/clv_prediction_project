{
 "cells": [
  {
   "cell_type": "code",
   "execution_count": 1,
   "metadata": {},
   "outputs": [],
   "source": [
    "import sys\n",
    "import os\n",
    "os.chdir(\"..\")\n",
    "\n",
    "sys.path.append(os.path.abspath(os.path.join(os.getcwd(), 'src')))"
   ]
  },
  {
   "cell_type": "code",
   "execution_count": 2,
   "metadata": {},
   "outputs": [],
   "source": [
    "import pandas as pd\n",
    "from src.modeling import preprocess_data\n",
    "from src.modeling import train_models\n",
    "from src.evaluation import evaluate_models\n",
    "\n",
    "# Load data\n",
    "X_train, X_test, y_train, y_test = preprocess_data.load_modeling_data()"
   ]
  },
  {
   "cell_type": "code",
   "execution_count": 7,
   "metadata": {},
   "outputs": [
    {
     "name": "stdout",
     "output_type": "stream",
     "text": [
      "[LightGBM] [Info] Auto-choosing col-wise multi-threading, the overhead of testing was 0.000190 seconds.\n",
      "You can set `force_col_wise=true` to remove the overhead.\n",
      "[LightGBM] [Info] Total Bins 1489\n",
      "[LightGBM] [Info] Number of data points in the train set: 3866, number of used features: 6\n",
      "[LightGBM] [Info] Start training from score 7.029097\n"
     ]
    },
    {
     "data": {
      "text/html": [
       "<div>\n",
       "<style scoped>\n",
       "    .dataframe tbody tr th:only-of-type {\n",
       "        vertical-align: middle;\n",
       "    }\n",
       "\n",
       "    .dataframe tbody tr th {\n",
       "        vertical-align: top;\n",
       "    }\n",
       "\n",
       "    .dataframe thead th {\n",
       "        text-align: right;\n",
       "    }\n",
       "</style>\n",
       "<table border=\"1\" class=\"dataframe\">\n",
       "  <thead>\n",
       "    <tr style=\"text-align: right;\">\n",
       "      <th></th>\n",
       "      <th>MAE</th>\n",
       "      <th>RMSE</th>\n",
       "      <th>R2</th>\n",
       "    </tr>\n",
       "    <tr>\n",
       "      <th>Model</th>\n",
       "      <th></th>\n",
       "      <th></th>\n",
       "      <th></th>\n",
       "    </tr>\n",
       "  </thead>\n",
       "  <tbody>\n",
       "    <tr>\n",
       "      <th>Random Forest</th>\n",
       "      <td>0.673644</td>\n",
       "      <td>0.911084</td>\n",
       "      <td>0.532543</td>\n",
       "    </tr>\n",
       "    <tr>\n",
       "      <th>XGBoost</th>\n",
       "      <td>0.690668</td>\n",
       "      <td>0.928647</td>\n",
       "      <td>0.514347</td>\n",
       "    </tr>\n",
       "    <tr>\n",
       "      <th>LightGBM</th>\n",
       "      <td>0.669790</td>\n",
       "      <td>0.909999</td>\n",
       "      <td>0.533656</td>\n",
       "    </tr>\n",
       "    <tr>\n",
       "      <th>MLP</th>\n",
       "      <td>0.653616</td>\n",
       "      <td>0.884525</td>\n",
       "      <td>0.559400</td>\n",
       "    </tr>\n",
       "  </tbody>\n",
       "</table>\n",
       "</div>"
      ],
      "text/plain": [
       "                    MAE      RMSE        R2\n",
       "Model                                      \n",
       "Random Forest  0.673644  0.911084  0.532543\n",
       "XGBoost        0.690668  0.928647  0.514347\n",
       "LightGBM       0.669790  0.909999  0.533656\n",
       "MLP            0.653616  0.884525  0.559400"
      ]
     },
     "metadata": {},
     "output_type": "display_data"
    }
   ],
   "source": [
    "from sklearn.preprocessing import StandardScaler\n",
    "\n",
    "# Scale data for MLP model only\n",
    "scaler = StandardScaler()\n",
    "X_train_scaled = scaler.fit_transform(X_train)\n",
    "X_test_scaled = scaler.transform(X_test)\n",
    "\n",
    "# Train models\n",
    "rf_model = train_models.train_random_forest(X_train, y_train)\n",
    "xgb_model = train_models.train_xgboost(X_train, y_train)\n",
    "lgb_model = train_models.train_lightgbm(X_train, y_train)\n",
    "mlp_model = train_models.train_mlp(pd.DataFrame(X_train_scaled), y_train)\n",
    "\n",
    "# Store models with corresponding test inputs\n",
    "model_inputs = {\n",
    "    \"Random Forest\": (rf_model, X_test),\n",
    "    \"XGBoost\": (xgb_model, X_test),\n",
    "    \"LightGBM\": (lgb_model, X_test),\n",
    "    \"MLP\": (mlp_model, X_test_scaled),\n",
    "}\n",
    "\n",
    "# Evaluate models\n",
    "results = []\n",
    "for name, (model, X_eval) in model_inputs.items():\n",
    "    y_pred = model.predict(X_eval)\n",
    "    metrics = evaluate_models.evaluate_regression_model(y_test, y_pred)\n",
    "    metrics[\"Model\"] = name\n",
    "    results.append(metrics)\n",
    "\n",
    "# Display results\n",
    "results_df = pd.DataFrame(results).set_index(\"Model\")\n",
    "display(results_df)"
   ]
  }
 ],
 "metadata": {
  "kernelspec": {
   "display_name": "Python 3",
   "language": "python",
   "name": "python3"
  },
  "language_info": {
   "codemirror_mode": {
    "name": "ipython",
    "version": 3
   },
   "file_extension": ".py",
   "mimetype": "text/x-python",
   "name": "python",
   "nbconvert_exporter": "python",
   "pygments_lexer": "ipython3",
   "version": "3.12.4"
  }
 },
 "nbformat": 4,
 "nbformat_minor": 2
}
